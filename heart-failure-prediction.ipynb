{
 "cells": [
  {
   "cell_type": "code",
   "execution_count": 1,
   "id": "3dedf440",
   "metadata": {
    "_cell_guid": "b1076dfc-b9ad-4769-8c92-a6c4dae69d19",
    "_uuid": "8f2839f25d086af736a60e9eeb907d3b93b6e0e5",
    "execution": {
     "iopub.execute_input": "2022-01-15T18:21:05.357558Z",
     "iopub.status.busy": "2022-01-15T18:21:05.356880Z",
     "iopub.status.idle": "2022-01-15T18:21:05.368505Z",
     "shell.execute_reply": "2022-01-15T18:21:05.369091Z",
     "shell.execute_reply.started": "2022-01-15T18:18:47.906993Z"
    },
    "papermill": {
     "duration": 0.057242,
     "end_time": "2022-01-15T18:21:05.369457",
     "exception": false,
     "start_time": "2022-01-15T18:21:05.312215",
     "status": "completed"
    },
    "tags": []
   },
   "outputs": [
    {
     "name": "stdout",
     "output_type": "stream",
     "text": [
      "/kaggle/input/heart-failure-prediction/heart.csv\n"
     ]
    }
   ],
   "source": [
    "# This Python 3 environment comes with many helpful analytics libraries installed\n",
    "# It is defined by the kaggle/python Docker image: https://github.com/kaggle/docker-python\n",
    "# For example, here's several helpful packages to load\n",
    "\n",
    "import numpy as np # linear algebra\n",
    "import pandas as pd # data processing, CSV file I/O (e.g. pd.read_csv)\n",
    "import os\n",
    "# Input data files are available in the read-only \"../input/\" directory\n",
    "# For example, running this (by clicking run or pressing Shift+Enter) will list all files under the input directory\n",
    "\n",
    "import os\n",
    "for dirname, _, filenames in os.walk('/kaggle/input'):\n",
    "    for filename in filenames:\n",
    "        print(os.path.join(dirname, filename))\n",
    "\n",
    "# You can write up to 20GB to the current directory (/kaggle/working/) that gets preserved as output when you create a version using \"Save & Run All\" \n",
    "# You can also write temporary files to /kaggle/temp/, but they won't be saved outside of the current session"
   ]
  },
  {
   "cell_type": "markdown",
   "id": "013cee58",
   "metadata": {
    "papermill": {
     "duration": 0.032178,
     "end_time": "2022-01-15T18:21:05.435370",
     "exception": false,
     "start_time": "2022-01-15T18:21:05.403192",
     "status": "completed"
    },
    "tags": []
   },
   "source": [
    "**Importing Dataset**"
   ]
  },
  {
   "cell_type": "code",
   "execution_count": 2,
   "id": "7f6862de",
   "metadata": {
    "execution": {
     "iopub.execute_input": "2022-01-15T18:21:05.506989Z",
     "iopub.status.busy": "2022-01-15T18:21:05.506258Z",
     "iopub.status.idle": "2022-01-15T18:21:05.541431Z",
     "shell.execute_reply": "2022-01-15T18:21:05.541966Z",
     "shell.execute_reply.started": "2022-01-15T16:56:22.598759Z"
    },
    "papermill": {
     "duration": 0.072916,
     "end_time": "2022-01-15T18:21:05.542141",
     "exception": false,
     "start_time": "2022-01-15T18:21:05.469225",
     "status": "completed"
    },
    "tags": []
   },
   "outputs": [
    {
     "data": {
      "text/html": [
       "<div>\n",
       "<style scoped>\n",
       "    .dataframe tbody tr th:only-of-type {\n",
       "        vertical-align: middle;\n",
       "    }\n",
       "\n",
       "    .dataframe tbody tr th {\n",
       "        vertical-align: top;\n",
       "    }\n",
       "\n",
       "    .dataframe thead th {\n",
       "        text-align: right;\n",
       "    }\n",
       "</style>\n",
       "<table border=\"1\" class=\"dataframe\">\n",
       "  <thead>\n",
       "    <tr style=\"text-align: right;\">\n",
       "      <th></th>\n",
       "      <th>Age</th>\n",
       "      <th>Sex</th>\n",
       "      <th>ChestPainType</th>\n",
       "      <th>RestingBP</th>\n",
       "      <th>Cholesterol</th>\n",
       "      <th>FastingBS</th>\n",
       "      <th>RestingECG</th>\n",
       "      <th>MaxHR</th>\n",
       "      <th>ExerciseAngina</th>\n",
       "      <th>Oldpeak</th>\n",
       "      <th>ST_Slope</th>\n",
       "      <th>HeartDisease</th>\n",
       "    </tr>\n",
       "  </thead>\n",
       "  <tbody>\n",
       "    <tr>\n",
       "      <th>0</th>\n",
       "      <td>40</td>\n",
       "      <td>M</td>\n",
       "      <td>ATA</td>\n",
       "      <td>140</td>\n",
       "      <td>289</td>\n",
       "      <td>0</td>\n",
       "      <td>Normal</td>\n",
       "      <td>172</td>\n",
       "      <td>N</td>\n",
       "      <td>0.0</td>\n",
       "      <td>Up</td>\n",
       "      <td>0</td>\n",
       "    </tr>\n",
       "    <tr>\n",
       "      <th>1</th>\n",
       "      <td>49</td>\n",
       "      <td>F</td>\n",
       "      <td>NAP</td>\n",
       "      <td>160</td>\n",
       "      <td>180</td>\n",
       "      <td>0</td>\n",
       "      <td>Normal</td>\n",
       "      <td>156</td>\n",
       "      <td>N</td>\n",
       "      <td>1.0</td>\n",
       "      <td>Flat</td>\n",
       "      <td>1</td>\n",
       "    </tr>\n",
       "    <tr>\n",
       "      <th>2</th>\n",
       "      <td>37</td>\n",
       "      <td>M</td>\n",
       "      <td>ATA</td>\n",
       "      <td>130</td>\n",
       "      <td>283</td>\n",
       "      <td>0</td>\n",
       "      <td>ST</td>\n",
       "      <td>98</td>\n",
       "      <td>N</td>\n",
       "      <td>0.0</td>\n",
       "      <td>Up</td>\n",
       "      <td>0</td>\n",
       "    </tr>\n",
       "    <tr>\n",
       "      <th>3</th>\n",
       "      <td>48</td>\n",
       "      <td>F</td>\n",
       "      <td>ASY</td>\n",
       "      <td>138</td>\n",
       "      <td>214</td>\n",
       "      <td>0</td>\n",
       "      <td>Normal</td>\n",
       "      <td>108</td>\n",
       "      <td>Y</td>\n",
       "      <td>1.5</td>\n",
       "      <td>Flat</td>\n",
       "      <td>1</td>\n",
       "    </tr>\n",
       "    <tr>\n",
       "      <th>4</th>\n",
       "      <td>54</td>\n",
       "      <td>M</td>\n",
       "      <td>NAP</td>\n",
       "      <td>150</td>\n",
       "      <td>195</td>\n",
       "      <td>0</td>\n",
       "      <td>Normal</td>\n",
       "      <td>122</td>\n",
       "      <td>N</td>\n",
       "      <td>0.0</td>\n",
       "      <td>Up</td>\n",
       "      <td>0</td>\n",
       "    </tr>\n",
       "  </tbody>\n",
       "</table>\n",
       "</div>"
      ],
      "text/plain": [
       "   Age Sex ChestPainType  RestingBP  Cholesterol  FastingBS RestingECG  MaxHR  \\\n",
       "0   40   M           ATA        140          289          0     Normal    172   \n",
       "1   49   F           NAP        160          180          0     Normal    156   \n",
       "2   37   M           ATA        130          283          0         ST     98   \n",
       "3   48   F           ASY        138          214          0     Normal    108   \n",
       "4   54   M           NAP        150          195          0     Normal    122   \n",
       "\n",
       "  ExerciseAngina  Oldpeak ST_Slope  HeartDisease  \n",
       "0              N      0.0       Up             0  \n",
       "1              N      1.0     Flat             1  \n",
       "2              N      0.0       Up             0  \n",
       "3              Y      1.5     Flat             1  \n",
       "4              N      0.0       Up             0  "
      ]
     },
     "execution_count": 2,
     "metadata": {},
     "output_type": "execute_result"
    }
   ],
   "source": [
    "data=pd.read_csv(\"/kaggle/input/heart-failure-prediction/heart.csv\")\n",
    "data.head()"
   ]
  },
  {
   "cell_type": "code",
   "execution_count": 3,
   "id": "d37711d8",
   "metadata": {
    "execution": {
     "iopub.execute_input": "2022-01-15T18:21:05.614685Z",
     "iopub.status.busy": "2022-01-15T18:21:05.613722Z",
     "iopub.status.idle": "2022-01-15T18:21:05.617034Z",
     "shell.execute_reply": "2022-01-15T18:21:05.617535Z",
     "shell.execute_reply.started": "2022-01-15T16:56:22.812516Z"
    },
    "papermill": {
     "duration": 0.042404,
     "end_time": "2022-01-15T18:21:05.617704",
     "exception": false,
     "start_time": "2022-01-15T18:21:05.575300",
     "status": "completed"
    },
    "tags": []
   },
   "outputs": [
    {
     "data": {
      "text/plain": [
       "Index(['Age', 'Sex', 'ChestPainType', 'RestingBP', 'Cholesterol', 'FastingBS',\n",
       "       'RestingECG', 'MaxHR', 'ExerciseAngina', 'Oldpeak', 'ST_Slope',\n",
       "       'HeartDisease'],\n",
       "      dtype='object')"
      ]
     },
     "execution_count": 3,
     "metadata": {},
     "output_type": "execute_result"
    }
   ],
   "source": [
    "data.columns"
   ]
  },
  {
   "cell_type": "code",
   "execution_count": 4,
   "id": "caf12c80",
   "metadata": {
    "execution": {
     "iopub.execute_input": "2022-01-15T18:21:05.700674Z",
     "iopub.status.busy": "2022-01-15T18:21:05.693577Z",
     "iopub.status.idle": "2022-01-15T18:21:05.729531Z",
     "shell.execute_reply": "2022-01-15T18:21:05.728854Z",
     "shell.execute_reply.started": "2022-01-15T16:56:22.824065Z"
    },
    "papermill": {
     "duration": 0.07887,
     "end_time": "2022-01-15T18:21:05.729677",
     "exception": false,
     "start_time": "2022-01-15T18:21:05.650807",
     "status": "completed"
    },
    "tags": []
   },
   "outputs": [
    {
     "data": {
      "text/html": [
       "<div>\n",
       "<style scoped>\n",
       "    .dataframe tbody tr th:only-of-type {\n",
       "        vertical-align: middle;\n",
       "    }\n",
       "\n",
       "    .dataframe tbody tr th {\n",
       "        vertical-align: top;\n",
       "    }\n",
       "\n",
       "    .dataframe thead th {\n",
       "        text-align: right;\n",
       "    }\n",
       "</style>\n",
       "<table border=\"1\" class=\"dataframe\">\n",
       "  <thead>\n",
       "    <tr style=\"text-align: right;\">\n",
       "      <th></th>\n",
       "      <th>Age</th>\n",
       "      <th>RestingBP</th>\n",
       "      <th>Cholesterol</th>\n",
       "      <th>FastingBS</th>\n",
       "      <th>MaxHR</th>\n",
       "      <th>Oldpeak</th>\n",
       "      <th>HeartDisease</th>\n",
       "    </tr>\n",
       "  </thead>\n",
       "  <tbody>\n",
       "    <tr>\n",
       "      <th>count</th>\n",
       "      <td>918.000000</td>\n",
       "      <td>918.000000</td>\n",
       "      <td>918.000000</td>\n",
       "      <td>918.000000</td>\n",
       "      <td>918.000000</td>\n",
       "      <td>918.000000</td>\n",
       "      <td>918.000000</td>\n",
       "    </tr>\n",
       "    <tr>\n",
       "      <th>mean</th>\n",
       "      <td>53.510893</td>\n",
       "      <td>132.396514</td>\n",
       "      <td>198.799564</td>\n",
       "      <td>0.233115</td>\n",
       "      <td>136.809368</td>\n",
       "      <td>0.887364</td>\n",
       "      <td>0.553377</td>\n",
       "    </tr>\n",
       "    <tr>\n",
       "      <th>std</th>\n",
       "      <td>9.432617</td>\n",
       "      <td>18.514154</td>\n",
       "      <td>109.384145</td>\n",
       "      <td>0.423046</td>\n",
       "      <td>25.460334</td>\n",
       "      <td>1.066570</td>\n",
       "      <td>0.497414</td>\n",
       "    </tr>\n",
       "    <tr>\n",
       "      <th>min</th>\n",
       "      <td>28.000000</td>\n",
       "      <td>0.000000</td>\n",
       "      <td>0.000000</td>\n",
       "      <td>0.000000</td>\n",
       "      <td>60.000000</td>\n",
       "      <td>-2.600000</td>\n",
       "      <td>0.000000</td>\n",
       "    </tr>\n",
       "    <tr>\n",
       "      <th>25%</th>\n",
       "      <td>47.000000</td>\n",
       "      <td>120.000000</td>\n",
       "      <td>173.250000</td>\n",
       "      <td>0.000000</td>\n",
       "      <td>120.000000</td>\n",
       "      <td>0.000000</td>\n",
       "      <td>0.000000</td>\n",
       "    </tr>\n",
       "    <tr>\n",
       "      <th>50%</th>\n",
       "      <td>54.000000</td>\n",
       "      <td>130.000000</td>\n",
       "      <td>223.000000</td>\n",
       "      <td>0.000000</td>\n",
       "      <td>138.000000</td>\n",
       "      <td>0.600000</td>\n",
       "      <td>1.000000</td>\n",
       "    </tr>\n",
       "    <tr>\n",
       "      <th>75%</th>\n",
       "      <td>60.000000</td>\n",
       "      <td>140.000000</td>\n",
       "      <td>267.000000</td>\n",
       "      <td>0.000000</td>\n",
       "      <td>156.000000</td>\n",
       "      <td>1.500000</td>\n",
       "      <td>1.000000</td>\n",
       "    </tr>\n",
       "    <tr>\n",
       "      <th>max</th>\n",
       "      <td>77.000000</td>\n",
       "      <td>200.000000</td>\n",
       "      <td>603.000000</td>\n",
       "      <td>1.000000</td>\n",
       "      <td>202.000000</td>\n",
       "      <td>6.200000</td>\n",
       "      <td>1.000000</td>\n",
       "    </tr>\n",
       "  </tbody>\n",
       "</table>\n",
       "</div>"
      ],
      "text/plain": [
       "              Age   RestingBP  Cholesterol   FastingBS       MaxHR  \\\n",
       "count  918.000000  918.000000   918.000000  918.000000  918.000000   \n",
       "mean    53.510893  132.396514   198.799564    0.233115  136.809368   \n",
       "std      9.432617   18.514154   109.384145    0.423046   25.460334   \n",
       "min     28.000000    0.000000     0.000000    0.000000   60.000000   \n",
       "25%     47.000000  120.000000   173.250000    0.000000  120.000000   \n",
       "50%     54.000000  130.000000   223.000000    0.000000  138.000000   \n",
       "75%     60.000000  140.000000   267.000000    0.000000  156.000000   \n",
       "max     77.000000  200.000000   603.000000    1.000000  202.000000   \n",
       "\n",
       "          Oldpeak  HeartDisease  \n",
       "count  918.000000    918.000000  \n",
       "mean     0.887364      0.553377  \n",
       "std      1.066570      0.497414  \n",
       "min     -2.600000      0.000000  \n",
       "25%      0.000000      0.000000  \n",
       "50%      0.600000      1.000000  \n",
       "75%      1.500000      1.000000  \n",
       "max      6.200000      1.000000  "
      ]
     },
     "execution_count": 4,
     "metadata": {},
     "output_type": "execute_result"
    }
   ],
   "source": [
    "data.describe()"
   ]
  },
  {
   "cell_type": "code",
   "execution_count": 5,
   "id": "ce12209d",
   "metadata": {
    "execution": {
     "iopub.execute_input": "2022-01-15T18:21:05.815921Z",
     "iopub.status.busy": "2022-01-15T18:21:05.814783Z",
     "iopub.status.idle": "2022-01-15T18:21:05.819212Z",
     "shell.execute_reply": "2022-01-15T18:21:05.818527Z",
     "shell.execute_reply.started": "2022-01-15T16:56:22.868377Z"
    },
    "papermill": {
     "duration": 0.055108,
     "end_time": "2022-01-15T18:21:05.819356",
     "exception": false,
     "start_time": "2022-01-15T18:21:05.764248",
     "status": "completed"
    },
    "tags": []
   },
   "outputs": [
    {
     "name": "stdout",
     "output_type": "stream",
     "text": [
      "<class 'pandas.core.frame.DataFrame'>\n",
      "RangeIndex: 918 entries, 0 to 917\n",
      "Data columns (total 12 columns):\n",
      " #   Column          Non-Null Count  Dtype  \n",
      "---  ------          --------------  -----  \n",
      " 0   Age             918 non-null    int64  \n",
      " 1   Sex             918 non-null    object \n",
      " 2   ChestPainType   918 non-null    object \n",
      " 3   RestingBP       918 non-null    int64  \n",
      " 4   Cholesterol     918 non-null    int64  \n",
      " 5   FastingBS       918 non-null    int64  \n",
      " 6   RestingECG      918 non-null    object \n",
      " 7   MaxHR           918 non-null    int64  \n",
      " 8   ExerciseAngina  918 non-null    object \n",
      " 9   Oldpeak         918 non-null    float64\n",
      " 10  ST_Slope        918 non-null    object \n",
      " 11  HeartDisease    918 non-null    int64  \n",
      "dtypes: float64(1), int64(6), object(5)\n",
      "memory usage: 86.2+ KB\n"
     ]
    }
   ],
   "source": [
    "data.info()"
   ]
  },
  {
   "cell_type": "markdown",
   "id": "b4136e48",
   "metadata": {
    "papermill": {
     "duration": 0.034481,
     "end_time": "2022-01-15T18:21:05.890703",
     "exception": false,
     "start_time": "2022-01-15T18:21:05.856222",
     "status": "completed"
    },
    "tags": []
   },
   "source": [
    "**Data Visualisation**"
   ]
  },
  {
   "cell_type": "markdown",
   "id": "56a09270",
   "metadata": {
    "papermill": {
     "duration": 0.034148,
     "end_time": "2022-01-15T18:21:05.959582",
     "exception": false,
     "start_time": "2022-01-15T18:21:05.925434",
     "status": "completed"
    },
    "tags": []
   },
   "source": [
    "*Analysing the Visuals*"
   ]
  },
  {
   "cell_type": "code",
   "execution_count": 6,
   "id": "ca6e5505",
   "metadata": {
    "execution": {
     "iopub.execute_input": "2022-01-15T18:21:06.034372Z",
     "iopub.status.busy": "2022-01-15T18:21:06.033446Z",
     "iopub.status.idle": "2022-01-15T18:21:07.089498Z",
     "shell.execute_reply": "2022-01-15T18:21:07.088819Z",
     "shell.execute_reply.started": "2022-01-15T16:56:22.88696Z"
    },
    "papermill": {
     "duration": 1.095469,
     "end_time": "2022-01-15T18:21:07.089646",
     "exception": false,
     "start_time": "2022-01-15T18:21:05.994177",
     "status": "completed"
    },
    "tags": []
   },
   "outputs": [],
   "source": [
    "import matplotlib.pyplot as plt\n",
    "import seaborn as sns"
   ]
  },
  {
   "cell_type": "code",
   "execution_count": 7,
   "id": "408d8afb",
   "metadata": {
    "execution": {
     "iopub.execute_input": "2022-01-15T18:21:07.173695Z",
     "iopub.status.busy": "2022-01-15T18:21:07.172950Z",
     "iopub.status.idle": "2022-01-15T18:21:07.470079Z",
     "shell.execute_reply": "2022-01-15T18:21:07.469029Z",
     "shell.execute_reply.started": "2022-01-15T16:56:23.86826Z"
    },
    "papermill": {
     "duration": 0.342446,
     "end_time": "2022-01-15T18:21:07.470242",
     "exception": false,
     "start_time": "2022-01-15T18:21:07.127796",
     "status": "completed"
    },
    "tags": []
   },
   "outputs": [
    {
     "data": {
      "text/plain": [
       "<AxesSubplot:xlabel='Sex', ylabel='HeartDisease'>"
      ]
     },
     "execution_count": 7,
     "metadata": {},
     "output_type": "execute_result"
    },
    {
     "data": {
      "image/png": "[encoded data removed]",
      "text/plain": [
       "<Figure size 432x288 with 1 Axes>"
      ]
     },
     "metadata": {
      "needs_background": "light"
     },
     "output_type": "display_data"
    }
   ],
   "source": [
    "import warnings\n",
    "warnings.filterwarnings(\"ignore\")\n",
    "sns.barplot(\"Sex\",\"HeartDisease\",data=data)"
   ]
  },
  {
   "cell_type": "code",
   "execution_count": 8,
   "id": "9bedc546",
   "metadata": {
    "execution": {
     "iopub.execute_input": "2022-01-15T18:21:07.545794Z",
     "iopub.status.busy": "2022-01-15T18:21:07.545121Z",
     "iopub.status.idle": "2022-01-15T18:21:09.796955Z",
     "shell.execute_reply": "2022-01-15T18:21:09.796399Z",
     "shell.execute_reply.started": "2022-01-15T16:56:24.180642Z"
    },
    "papermill": {
     "duration": 2.290765,
     "end_time": "2022-01-15T18:21:09.797119",
     "exception": false,
     "start_time": "2022-01-15T18:21:07.506354",
     "status": "completed"
    },
    "tags": []
   },
   "outputs": [
    {
     "data": {
      "image/png": "[encoded data removed]",
      "text/plain": [
       "<Figure size 1080x1080 with 1 Axes>"
      ]
     },
     "metadata": {
      "needs_background": "light"
     },
     "output_type": "display_data"
    }
   ],
   "source": [
    "plt.figure(figsize=(15,15))\n",
    "sns.barplot(\"Age\",\"HeartDisease\",data=data)\n",
    "plt.show()"
   ]
  },
  {
   "cell_type": "code",
   "execution_count": 9,
   "id": "d80242da",
   "metadata": {
    "execution": {
     "iopub.execute_input": "2022-01-15T18:21:09.874562Z",
     "iopub.status.busy": "2022-01-15T18:21:09.873348Z",
     "iopub.status.idle": "2022-01-15T18:21:10.160404Z",
     "shell.execute_reply": "2022-01-15T18:21:10.160975Z",
     "shell.execute_reply.started": "2022-01-15T17:46:36.006686Z"
    },
    "papermill": {
     "duration": 0.327355,
     "end_time": "2022-01-15T18:21:10.161167",
     "exception": false,
     "start_time": "2022-01-15T18:21:09.833812",
     "status": "completed"
    },
    "tags": []
   },
   "outputs": [
    {
     "data": {
      "image/png": "[encoded data removed]",
      "text/plain": [
       "<Figure size 504x360 with 1 Axes>"
      ]
     },
     "metadata": {
      "needs_background": "light"
     },
     "output_type": "display_data"
    }
   ],
   "source": [
    "plt.figure(figsize=(7,5))\n",
    "sns.barplot(\"RestingECG\",\"HeartDisease\",data=data)\n",
    "plt.show()"
   ]
  },
  {
   "cell_type": "code",
   "execution_count": 10,
   "id": "e8a47ec6",
   "metadata": {
    "execution": {
     "iopub.execute_input": "2022-01-15T18:21:10.240394Z",
     "iopub.status.busy": "2022-01-15T18:21:10.239648Z",
     "iopub.status.idle": "2022-01-15T18:21:10.568772Z",
     "shell.execute_reply": "2022-01-15T18:21:10.569323Z",
     "shell.execute_reply.started": "2022-01-15T17:46:43.804304Z"
    },
    "papermill": {
     "duration": 0.371223,
     "end_time": "2022-01-15T18:21:10.569525",
     "exception": false,
     "start_time": "2022-01-15T18:21:10.198302",
     "status": "completed"
    },
    "tags": []
   },
   "outputs": [
    {
     "data": {
      "image/png": "[encoded data removed]",
      "text/plain": [
       "<Figure size 504x360 with 1 Axes>"
      ]
     },
     "metadata": {
      "needs_background": "light"
     },
     "output_type": "display_data"
    }
   ],
   "source": [
    "plt.figure(figsize=(7,5))\n",
    "sns.barplot(\"ChestPainType\",\"HeartDisease\",data=data)\n",
    "plt.show()"
   ]
  },
  {
   "cell_type": "code",
   "execution_count": 11,
   "id": "c7c6449e",
   "metadata": {
    "execution": {
     "iopub.execute_input": "2022-01-15T18:21:10.649010Z",
     "iopub.status.busy": "2022-01-15T18:21:10.648190Z",
     "iopub.status.idle": "2022-01-15T18:21:10.880799Z",
     "shell.execute_reply": "2022-01-15T18:21:10.880260Z",
     "shell.execute_reply.started": "2022-01-15T17:46:52.175652Z"
    },
    "papermill": {
     "duration": 0.273514,
     "end_time": "2022-01-15T18:21:10.880967",
     "exception": false,
     "start_time": "2022-01-15T18:21:10.607453",
     "status": "completed"
    },
    "tags": []
   },
   "outputs": [
    {
     "data": {
      "image/png": "[encoded data removed]",
      "text/plain": [
       "<Figure size 504x360 with 1 Axes>"
      ]
     },
     "metadata": {
      "needs_background": "light"
     },
     "output_type": "display_data"
    }
   ],
   "source": [
    "plt.figure(figsize=(7,5))\n",
    "sns.barplot(\"ExerciseAngina\",\"HeartDisease\",data=data)\n",
    "plt.show()"
   ]
  },
  {
   "cell_type": "code",
   "execution_count": 12,
   "id": "9fbb66c0",
   "metadata": {
    "execution": {
     "iopub.execute_input": "2022-01-15T18:21:10.962993Z",
     "iopub.status.busy": "2022-01-15T18:21:10.962005Z",
     "iopub.status.idle": "2022-01-15T18:21:11.230861Z",
     "shell.execute_reply": "2022-01-15T18:21:11.231345Z",
     "shell.execute_reply.started": "2022-01-15T17:46:59.675669Z"
    },
    "papermill": {
     "duration": 0.312609,
     "end_time": "2022-01-15T18:21:11.231558",
     "exception": false,
     "start_time": "2022-01-15T18:21:10.918949",
     "status": "completed"
    },
    "tags": []
   },
   "outputs": [
    {
     "data": {
      "image/png": "[encoded data removed]",
      "text/plain": [
       "<Figure size 504x360 with 1 Axes>"
      ]
     },
     "metadata": {
      "needs_background": "light"
     },
     "output_type": "display_data"
    }
   ],
   "source": [
    "plt.figure(figsize=(7,5))\n",
    "sns.barplot(\"ST_Slope\",\"HeartDisease\",data=data)\n",
    "plt.show()"
   ]
  },
  {
   "cell_type": "code",
   "execution_count": 13,
   "id": "de576a63",
   "metadata": {
    "execution": {
     "iopub.execute_input": "2022-01-15T18:21:11.314120Z",
     "iopub.status.busy": "2022-01-15T18:21:11.313399Z",
     "iopub.status.idle": "2022-01-15T18:21:12.147751Z",
     "shell.execute_reply": "2022-01-15T18:21:12.147085Z",
     "shell.execute_reply.started": "2022-01-15T18:00:23.562908Z"
    },
    "papermill": {
     "duration": 0.877025,
     "end_time": "2022-01-15T18:21:12.147922",
     "exception": false,
     "start_time": "2022-01-15T18:21:11.270897",
     "status": "completed"
    },
    "tags": []
   },
   "outputs": [
    {
     "data": {
      "image/png": "[encoded data removed]",
      "text/plain": [
       "<Figure size 1944x1800 with 4 Axes>"
      ]
     },
     "metadata": {
      "needs_background": "light"
     },
     "output_type": "display_data"
    }
   ],
   "source": [
    "plt.figure(figsize=(27,25))\n",
    "plt.subplot(4,4,1)\n",
    "sns.barplot(\"Sex\",\"HeartDisease\",data=data,palette=\"Blues\")\n",
    "plt.subplot(4,4,2)\n",
    "sns.barplot(\"ExerciseAngina\",\"HeartDisease\",data=data,palette=\"Reds\")\n",
    "plt.subplot(4,4,3)\n",
    "sns.barplot(\"ST_Slope\",\"HeartDisease\",data=data,palette=\"Purples\")\n",
    "plt.subplot(4,4,4)\n",
    "sns.barplot(\"RestingECG\",\"HeartDisease\",data=data,palette=\"Greens\")\n",
    "plt.show()"
   ]
  },
  {
   "cell_type": "code",
   "execution_count": 14,
   "id": "90ca2ec3",
   "metadata": {
    "execution": {
     "iopub.execute_input": "2022-01-15T18:21:12.234140Z",
     "iopub.status.busy": "2022-01-15T18:21:12.233442Z",
     "iopub.status.idle": "2022-01-15T18:21:12.871142Z",
     "shell.execute_reply": "2022-01-15T18:21:12.871622Z",
     "shell.execute_reply.started": "2022-01-15T17:45:44.144262Z"
    },
    "papermill": {
     "duration": 0.683307,
     "end_time": "2022-01-15T18:21:12.871810",
     "exception": false,
     "start_time": "2022-01-15T18:21:12.188503",
     "status": "completed"
    },
    "tags": []
   },
   "outputs": [
    {
     "data": {
      "image/png": "[encoded data removed]",
      "text/plain": [
       "<Figure size 1080x864 with 2 Axes>"
      ]
     },
     "metadata": {
      "needs_background": "light"
     },
     "output_type": "display_data"
    }
   ],
   "source": [
    "plt.figure(figsize=(15,12))\n",
    "cor=data.corr()\n",
    "sns.heatmap(cor,annot=True,)\n",
    "plt.show()"
   ]
  },
  {
   "cell_type": "markdown",
   "id": "b8a6384c",
   "metadata": {
    "papermill": {
     "duration": 0.041284,
     "end_time": "2022-01-15T18:21:12.954292",
     "exception": false,
     "start_time": "2022-01-15T18:21:12.913008",
     "status": "completed"
    },
    "tags": []
   },
   "source": [
    "**Scaling,Spliting and Replacing the Objects and Ints**"
   ]
  },
  {
   "cell_type": "code",
   "execution_count": 15,
   "id": "201644a8",
   "metadata": {
    "execution": {
     "iopub.execute_input": "2022-01-15T18:21:13.043037Z",
     "iopub.status.busy": "2022-01-15T18:21:13.042200Z",
     "iopub.status.idle": "2022-01-15T18:21:13.235393Z",
     "shell.execute_reply": "2022-01-15T18:21:13.235949Z",
     "shell.execute_reply.started": "2022-01-15T16:56:28.142154Z"
    },
    "papermill": {
     "duration": 0.240305,
     "end_time": "2022-01-15T18:21:13.236156",
     "exception": false,
     "start_time": "2022-01-15T18:21:12.995851",
     "status": "completed"
    },
    "tags": []
   },
   "outputs": [],
   "source": [
    "from sklearn.preprocessing import StandardScaler    \n",
    "from sklearn.model_selection import train_test_split"
   ]
  },
  {
   "cell_type": "code",
   "execution_count": 16,
   "id": "05e61425",
   "metadata": {
    "execution": {
     "iopub.execute_input": "2022-01-15T18:21:13.323537Z",
     "iopub.status.busy": "2022-01-15T18:21:13.322504Z",
     "iopub.status.idle": "2022-01-15T18:21:13.336530Z",
     "shell.execute_reply": "2022-01-15T18:21:13.337030Z"
    },
    "papermill": {
     "duration": 0.059254,
     "end_time": "2022-01-15T18:21:13.337219",
     "exception": false,
     "start_time": "2022-01-15T18:21:13.277965",
     "status": "completed"
    },
    "tags": []
   },
   "outputs": [],
   "source": [
    "data.replace({\"Normal\":0,\"ST\":1,\"LVH\":2,\"N\":0,\"Y\":1,\"ATA\":0,\"NAP\":1,\"ASY\":2,\"TA\":3,\"Up\":0,\"Flat\":1,\"Down\":2,\"M\":0,\"F\":1},inplace=True)"
   ]
  },
  {
   "cell_type": "code",
   "execution_count": 17,
   "id": "2c496cf0",
   "metadata": {
    "execution": {
     "iopub.execute_input": "2022-01-15T18:21:13.427610Z",
     "iopub.status.busy": "2022-01-15T18:21:13.426921Z",
     "iopub.status.idle": "2022-01-15T18:21:13.430405Z",
     "shell.execute_reply": "2022-01-15T18:21:13.429851Z",
     "shell.execute_reply.started": "2022-01-15T16:56:28.473269Z"
    },
    "papermill": {
     "duration": 0.051462,
     "end_time": "2022-01-15T18:21:13.430554",
     "exception": false,
     "start_time": "2022-01-15T18:21:13.379092",
     "status": "completed"
    },
    "tags": []
   },
   "outputs": [],
   "source": [
    "Y=data[\"HeartDisease\"].values\n",
    "X=((data.loc[:,data.columns!=\"HeartDisease\"]).astype(int)).values[:,0:]"
   ]
  },
  {
   "cell_type": "code",
   "execution_count": 18,
   "id": "465ca3dd",
   "metadata": {
    "execution": {
     "iopub.execute_input": "2022-01-15T18:21:13.518352Z",
     "iopub.status.busy": "2022-01-15T18:21:13.517462Z",
     "iopub.status.idle": "2022-01-15T18:21:13.519323Z",
     "shell.execute_reply": "2022-01-15T18:21:13.519945Z",
     "shell.execute_reply.started": "2022-01-15T16:56:28.502265Z"
    },
    "papermill": {
     "duration": 0.048142,
     "end_time": "2022-01-15T18:21:13.520134",
     "exception": false,
     "start_time": "2022-01-15T18:21:13.471992",
     "status": "completed"
    },
    "tags": []
   },
   "outputs": [],
   "source": [
    "Scaler=StandardScaler()"
   ]
  },
  {
   "cell_type": "code",
   "execution_count": 19,
   "id": "c59ce95a",
   "metadata": {
    "execution": {
     "iopub.execute_input": "2022-01-15T18:21:13.609302Z",
     "iopub.status.busy": "2022-01-15T18:21:13.608348Z",
     "iopub.status.idle": "2022-01-15T18:21:13.612177Z",
     "shell.execute_reply": "2022-01-15T18:21:13.611477Z",
     "shell.execute_reply.started": "2022-01-15T16:56:28.511019Z"
    },
    "papermill": {
     "duration": 0.05014,
     "end_time": "2022-01-15T18:21:13.612324",
     "exception": false,
     "start_time": "2022-01-15T18:21:13.562184",
     "status": "completed"
    },
    "tags": []
   },
   "outputs": [],
   "source": [
    "X_scaled=Scaler.fit_transform(X)"
   ]
  },
  {
   "cell_type": "code",
   "execution_count": 20,
   "id": "0e048ad5",
   "metadata": {
    "execution": {
     "iopub.execute_input": "2022-01-15T18:21:13.702541Z",
     "iopub.status.busy": "2022-01-15T18:21:13.701862Z",
     "iopub.status.idle": "2022-01-15T18:21:13.706343Z",
     "shell.execute_reply": "2022-01-15T18:21:13.706911Z",
     "shell.execute_reply.started": "2022-01-15T16:56:28.522446Z"
    },
    "papermill": {
     "duration": 0.052622,
     "end_time": "2022-01-15T18:21:13.707083",
     "exception": false,
     "start_time": "2022-01-15T18:21:13.654461",
     "status": "completed"
    },
    "tags": []
   },
   "outputs": [],
   "source": [
    "X_train,X_test,Y_train,Y_test=train_test_split(X_scaled,Y,test_size=0.2,random_state=2)"
   ]
  },
  {
   "cell_type": "markdown",
   "id": "ec3d191a",
   "metadata": {
    "papermill": {
     "duration": 0.041618,
     "end_time": "2022-01-15T18:21:13.790394",
     "exception": false,
     "start_time": "2022-01-15T18:21:13.748776",
     "status": "completed"
    },
    "tags": []
   },
   "source": [
    "**MODEL TRAINING**"
   ]
  },
  {
   "cell_type": "code",
   "execution_count": 21,
   "id": "928562ee",
   "metadata": {
    "execution": {
     "iopub.execute_input": "2022-01-15T18:21:13.877234Z",
     "iopub.status.busy": "2022-01-15T18:21:13.876243Z",
     "iopub.status.idle": "2022-01-15T18:21:14.990568Z",
     "shell.execute_reply": "2022-01-15T18:21:14.991176Z",
     "shell.execute_reply.started": "2022-01-15T17:10:11.342085Z"
    },
    "papermill": {
     "duration": 1.159465,
     "end_time": "2022-01-15T18:21:14.991359",
     "exception": false,
     "start_time": "2022-01-15T18:21:13.831894",
     "status": "completed"
    },
    "tags": []
   },
   "outputs": [],
   "source": [
    "import torch\n",
    "import torch.nn.functional as F\n",
    "import torch.nn as nn\n",
    "from torch.autograd import Variable"
   ]
  },
  {
   "cell_type": "code",
   "execution_count": 22,
   "id": "34fc5bbb",
   "metadata": {
    "execution": {
     "iopub.execute_input": "2022-01-15T18:21:15.086502Z",
     "iopub.status.busy": "2022-01-15T18:21:15.085768Z",
     "iopub.status.idle": "2022-01-15T18:21:15.108611Z",
     "shell.execute_reply": "2022-01-15T18:21:15.108003Z",
     "shell.execute_reply.started": "2022-01-15T17:04:06.151789Z"
    },
    "papermill": {
     "duration": 0.074049,
     "end_time": "2022-01-15T18:21:15.108790",
     "exception": false,
     "start_time": "2022-01-15T18:21:15.034741",
     "status": "completed"
    },
    "tags": []
   },
   "outputs": [],
   "source": [
    "X_train=torch.tensor(X_train).float()\n",
    "X_test=torch.tensor(X_test).float()\n",
    "Y_train=torch.tensor(Y_train).long()\n",
    "Y_test=torch.tensor(Y_test).long()"
   ]
  },
  {
   "cell_type": "code",
   "execution_count": 23,
   "id": "32e252ab",
   "metadata": {
    "execution": {
     "iopub.execute_input": "2022-01-15T18:21:15.201261Z",
     "iopub.status.busy": "2022-01-15T18:21:15.200559Z",
     "iopub.status.idle": "2022-01-15T18:21:15.203335Z",
     "shell.execute_reply": "2022-01-15T18:21:15.202692Z",
     "shell.execute_reply.started": "2022-01-15T17:19:58.196924Z"
    },
    "papermill": {
     "duration": 0.051942,
     "end_time": "2022-01-15T18:21:15.203488",
     "exception": false,
     "start_time": "2022-01-15T18:21:15.151546",
     "status": "completed"
    },
    "tags": []
   },
   "outputs": [],
   "source": [
    "class heartdis(nn.Module):\n",
    "    def __init__(self):\n",
    "        super(heartdis,self).__init__()\n",
    "        self.fc1=nn.Linear(11,150)\n",
    "        self.fc2=nn.Linear(150,150)\n",
    "        self.fc3=nn.Linear(150,2)\n",
    "    def forward(self,x):\n",
    "        x=F.relu(self.fc1(x))\n",
    "        x=F.relu(self.fc2(x))\n",
    "        return self.fc3(x)"
   ]
  },
  {
   "cell_type": "code",
   "execution_count": 24,
   "id": "d5c5105b",
   "metadata": {
    "execution": {
     "iopub.execute_input": "2022-01-15T18:21:15.297027Z",
     "iopub.status.busy": "2022-01-15T18:21:15.296221Z",
     "iopub.status.idle": "2022-01-15T18:21:15.310295Z",
     "shell.execute_reply": "2022-01-15T18:21:15.310857Z",
     "shell.execute_reply.started": "2022-01-15T17:19:59.256315Z"
    },
    "papermill": {
     "duration": 0.065247,
     "end_time": "2022-01-15T18:21:15.311044",
     "exception": false,
     "start_time": "2022-01-15T18:21:15.245797",
     "status": "completed"
    },
    "tags": []
   },
   "outputs": [],
   "source": [
    "model=heartdis()"
   ]
  },
  {
   "cell_type": "code",
   "execution_count": 25,
   "id": "f5ed95a2",
   "metadata": {
    "execution": {
     "iopub.execute_input": "2022-01-15T18:21:15.404508Z",
     "iopub.status.busy": "2022-01-15T18:21:15.401737Z",
     "iopub.status.idle": "2022-01-15T18:21:15.406732Z",
     "shell.execute_reply": "2022-01-15T18:21:15.407388Z",
     "shell.execute_reply.started": "2022-01-15T17:20:00.143593Z"
    },
    "papermill": {
     "duration": 0.052614,
     "end_time": "2022-01-15T18:21:15.407568",
     "exception": false,
     "start_time": "2022-01-15T18:21:15.354954",
     "status": "completed"
    },
    "tags": []
   },
   "outputs": [],
   "source": [
    "from torch import optim\n",
    "optimizer=optim.Adam(model.parameters())\n",
    "criterion=nn.CrossEntropyLoss()"
   ]
  },
  {
   "cell_type": "code",
   "execution_count": 26,
   "id": "2341dda6",
   "metadata": {
    "execution": {
     "iopub.execute_input": "2022-01-15T18:21:15.495797Z",
     "iopub.status.busy": "2022-01-15T18:21:15.494774Z",
     "iopub.status.idle": "2022-01-15T18:21:15.498611Z",
     "shell.execute_reply": "2022-01-15T18:21:15.499222Z",
     "shell.execute_reply.started": "2022-01-15T17:20:01.015147Z"
    },
    "papermill": {
     "duration": 0.049021,
     "end_time": "2022-01-15T18:21:15.499413",
     "exception": false,
     "start_time": "2022-01-15T18:21:15.450392",
     "status": "completed"
    },
    "tags": []
   },
   "outputs": [],
   "source": [
    "losses=[]"
   ]
  },
  {
   "cell_type": "markdown",
   "id": "2b7e125a",
   "metadata": {
    "papermill": {
     "duration": 0.042642,
     "end_time": "2022-01-15T18:21:15.584683",
     "exception": false,
     "start_time": "2022-01-15T18:21:15.542041",
     "status": "completed"
    },
    "tags": []
   },
   "source": [
    "*creating epoches and minimising the loss*"
   ]
  },
  {
   "cell_type": "code",
   "execution_count": 27,
   "id": "c8a1b8dc",
   "metadata": {
    "execution": {
     "iopub.execute_input": "2022-01-15T18:21:15.679443Z",
     "iopub.status.busy": "2022-01-15T18:21:15.678679Z",
     "iopub.status.idle": "2022-01-15T18:21:16.585433Z",
     "shell.execute_reply": "2022-01-15T18:21:16.584588Z",
     "shell.execute_reply.started": "2022-01-15T18:20:11.957706Z"
    },
    "papermill": {
     "duration": 0.959015,
     "end_time": "2022-01-15T18:21:16.585583",
     "exception": false,
     "start_time": "2022-01-15T18:21:15.626568",
     "status": "completed"
    },
    "tags": []
   },
   "outputs": [
    {
     "name": "stdout",
     "output_type": "stream",
     "text": [
      "Epoch 1,Loss 0.6999260783195496\n",
      "Epoch 2,Loss 0.6682896614074707\n",
      "Epoch 3,Loss 0.6389825940132141\n",
      "Epoch 4,Loss 0.6113554239273071\n",
      "Epoch 5,Loss 0.5849921107292175\n",
      "Epoch 6,Loss 0.5596599578857422\n",
      "Epoch 7,Loss 0.5353624224662781\n",
      "Epoch 8,Loss 0.512112557888031\n",
      "Epoch 9,Loss 0.48996832966804504\n",
      "Epoch 10,Loss 0.4691379964351654\n",
      "Epoch 11,Loss 0.44985079765319824\n",
      "Epoch 12,Loss 0.4323471486568451\n",
      "Epoch 13,Loss 0.41680553555488586\n",
      "Epoch 14,Loss 0.4033368229866028\n",
      "Epoch 15,Loss 0.3919222056865692\n",
      "Epoch 16,Loss 0.3825778067111969\n",
      "Epoch 17,Loss 0.3751828968524933\n",
      "Epoch 18,Loss 0.3695445954799652\n",
      "Epoch 19,Loss 0.3653233051300049\n",
      "Epoch 20,Loss 0.3621883690357208\n",
      "Epoch 21,Loss 0.3597961366176605\n",
      "Epoch 22,Loss 0.35779720544815063\n",
      "Epoch 23,Loss 0.35593563318252563\n",
      "Epoch 24,Loss 0.354041188955307\n",
      "Epoch 25,Loss 0.35199692845344543\n",
      "Epoch 26,Loss 0.3497673273086548\n",
      "Epoch 27,Loss 0.3473660349845886\n",
      "Epoch 28,Loss 0.3448100686073303\n",
      "Epoch 29,Loss 0.34216251969337463\n",
      "Epoch 30,Loss 0.3394383490085602\n",
      "Epoch 31,Loss 0.33668026328086853\n",
      "Epoch 32,Loss 0.333907812833786\n",
      "Epoch 33,Loss 0.33117684721946716\n",
      "Epoch 34,Loss 0.3285265862941742\n",
      "Epoch 35,Loss 0.32596686482429504\n",
      "Epoch 36,Loss 0.3235120475292206\n",
      "Epoch 37,Loss 0.32112765312194824\n",
      "Epoch 38,Loss 0.31880292296409607\n",
      "Epoch 39,Loss 0.3165324330329895\n",
      "Epoch 40,Loss 0.31432273983955383\n",
      "Epoch 41,Loss 0.3121402859687805\n",
      "Epoch 42,Loss 0.3099841773509979\n",
      "Epoch 43,Loss 0.30787181854248047\n",
      "Epoch 44,Loss 0.30581143498420715\n",
      "Epoch 45,Loss 0.30377089977264404\n",
      "Epoch 46,Loss 0.30175256729125977\n",
      "Epoch 47,Loss 0.2997407913208008\n",
      "Epoch 48,Loss 0.2977123558521271\n",
      "Epoch 49,Loss 0.2956532835960388\n",
      "Epoch 50,Loss 0.2935801148414612\n",
      "Epoch 51,Loss 0.29148805141448975\n",
      "Epoch 52,Loss 0.28938984870910645\n",
      "Epoch 53,Loss 0.28729093074798584\n",
      "Epoch 54,Loss 0.28518638014793396\n",
      "Epoch 55,Loss 0.28307655453681946\n",
      "Epoch 56,Loss 0.2809877097606659\n",
      "Epoch 57,Loss 0.2789166271686554\n",
      "Epoch 58,Loss 0.2768540382385254\n",
      "Epoch 59,Loss 0.27479860186576843\n",
      "Epoch 60,Loss 0.2727486789226532\n",
      "Epoch 61,Loss 0.270696222782135\n",
      "Epoch 62,Loss 0.26864877343177795\n",
      "Epoch 63,Loss 0.26660314202308655\n",
      "Epoch 64,Loss 0.26456353068351746\n",
      "Epoch 65,Loss 0.2625344395637512\n",
      "Epoch 66,Loss 0.26050877571105957\n",
      "Epoch 67,Loss 0.258476197719574\n",
      "Epoch 68,Loss 0.2564432919025421\n",
      "Epoch 69,Loss 0.2543986439704895\n",
      "Epoch 70,Loss 0.25234541296958923\n",
      "Epoch 71,Loss 0.2502787709236145\n",
      "Epoch 72,Loss 0.24820689857006073\n",
      "Epoch 73,Loss 0.24612747132778168\n",
      "Epoch 74,Loss 0.24404270946979523\n",
      "Epoch 75,Loss 0.24195925891399384\n",
      "Epoch 76,Loss 0.2398769110441208\n",
      "Epoch 77,Loss 0.23778685927391052\n",
      "Epoch 78,Loss 0.23570756614208221\n",
      "Epoch 79,Loss 0.233633890748024\n",
      "Epoch 80,Loss 0.23155450820922852\n",
      "Epoch 81,Loss 0.22946298122406006\n",
      "Epoch 82,Loss 0.2273670732975006\n",
      "Epoch 83,Loss 0.22527924180030823\n",
      "Epoch 84,Loss 0.22320914268493652\n",
      "Epoch 85,Loss 0.22113998234272003\n",
      "Epoch 86,Loss 0.21907103061676025\n",
      "Epoch 87,Loss 0.21699504554271698\n",
      "Epoch 88,Loss 0.2149270474910736\n",
      "Epoch 89,Loss 0.21286411583423615\n",
      "Epoch 90,Loss 0.21080322563648224\n",
      "Epoch 91,Loss 0.20875422656536102\n",
      "Epoch 92,Loss 0.2067122906446457\n",
      "Epoch 93,Loss 0.20468278229236603\n",
      "Epoch 94,Loss 0.20266206562519073\n",
      "Epoch 95,Loss 0.2006521373987198\n",
      "Epoch 96,Loss 0.19864575564861298\n",
      "Epoch 97,Loss 0.19665583968162537\n",
      "Epoch 98,Loss 0.19466574490070343\n",
      "Epoch 99,Loss 0.19267649948596954\n",
      "Epoch 100,Loss 0.19068601727485657\n",
      "Epoch 101,Loss 0.18870139122009277\n",
      "Epoch 102,Loss 0.1867237538099289\n",
      "Epoch 103,Loss 0.1847495585680008\n",
      "Epoch 104,Loss 0.18277667462825775\n",
      "Epoch 105,Loss 0.1808101087808609\n",
      "Epoch 106,Loss 0.17884628474712372\n",
      "Epoch 107,Loss 0.1768852323293686\n",
      "Epoch 108,Loss 0.1749335527420044\n",
      "Epoch 109,Loss 0.17299193143844604\n",
      "Epoch 110,Loss 0.17104437947273254\n",
      "Epoch 111,Loss 0.16911043226718903\n",
      "Epoch 112,Loss 0.16718699038028717\n",
      "Epoch 113,Loss 0.16528290510177612\n",
      "Epoch 114,Loss 0.16339795291423798\n",
      "Epoch 115,Loss 0.16154693067073822\n",
      "Epoch 116,Loss 0.15969370305538177\n",
      "Epoch 117,Loss 0.15783551335334778\n",
      "Epoch 118,Loss 0.15598613023757935\n",
      "Epoch 119,Loss 0.1541290283203125\n",
      "Epoch 120,Loss 0.15226909518241882\n",
      "Epoch 121,Loss 0.15042343735694885\n",
      "Epoch 122,Loss 0.1486096978187561\n",
      "Epoch 123,Loss 0.14680011570453644\n",
      "Epoch 124,Loss 0.14500519633293152\n",
      "Epoch 125,Loss 0.1432160884141922\n",
      "Epoch 126,Loss 0.14142769575119019\n",
      "Epoch 127,Loss 0.13964952528476715\n",
      "Epoch 128,Loss 0.13787874579429626\n",
      "Epoch 129,Loss 0.13610270619392395\n",
      "Epoch 130,Loss 0.13434426486492157\n",
      "Epoch 131,Loss 0.13260304927825928\n",
      "Epoch 132,Loss 0.13086146116256714\n",
      "Epoch 133,Loss 0.12912088632583618\n",
      "Epoch 134,Loss 0.1273903250694275\n",
      "Epoch 135,Loss 0.12566594779491425\n",
      "Epoch 136,Loss 0.12394924461841583\n",
      "Epoch 137,Loss 0.12225449830293655\n",
      "Epoch 138,Loss 0.12055664509534836\n",
      "Epoch 139,Loss 0.11886486411094666\n",
      "Epoch 140,Loss 0.11717463284730911\n",
      "Epoch 141,Loss 0.11550558358430862\n",
      "Epoch 142,Loss 0.1138523519039154\n",
      "Epoch 143,Loss 0.11220705509185791\n",
      "Epoch 144,Loss 0.11058835685253143\n",
      "Epoch 145,Loss 0.1089678704738617\n",
      "Epoch 146,Loss 0.107345350086689\n",
      "Epoch 147,Loss 0.10574819147586823\n",
      "Epoch 148,Loss 0.10416185855865479\n",
      "Epoch 149,Loss 0.10258451849222183\n",
      "Epoch 150,Loss 0.10102207213640213\n",
      "Epoch 151,Loss 0.09947215020656586\n",
      "Epoch 152,Loss 0.09796629101037979\n",
      "Epoch 153,Loss 0.09647087007761002\n",
      "Epoch 154,Loss 0.0949668437242508\n",
      "Epoch 155,Loss 0.09349241852760315\n",
      "Epoch 156,Loss 0.09202806651592255\n",
      "Epoch 157,Loss 0.09058336168527603\n",
      "Epoch 158,Loss 0.08915171772241592\n",
      "Epoch 159,Loss 0.08773761987686157\n",
      "Epoch 160,Loss 0.08633200079202652\n",
      "Epoch 161,Loss 0.08495412766933441\n",
      "Epoch 162,Loss 0.08361399918794632\n",
      "Epoch 163,Loss 0.08226005733013153\n",
      "Epoch 164,Loss 0.0809076726436615\n",
      "Epoch 165,Loss 0.0795791819691658\n",
      "Epoch 166,Loss 0.0782664492726326\n",
      "Epoch 167,Loss 0.07694944739341736\n",
      "Epoch 168,Loss 0.07565736025571823\n",
      "Epoch 169,Loss 0.0743890255689621\n",
      "Epoch 170,Loss 0.07313354313373566\n",
      "Epoch 171,Loss 0.07190176099538803\n",
      "Epoch 172,Loss 0.07068752497434616\n",
      "Epoch 173,Loss 0.06947966665029526\n",
      "Epoch 174,Loss 0.06829897314310074\n",
      "Epoch 175,Loss 0.06712555140256882\n",
      "Epoch 176,Loss 0.06597740203142166\n",
      "Epoch 177,Loss 0.06484279781579971\n",
      "Epoch 178,Loss 0.0637262612581253\n",
      "Epoch 179,Loss 0.062624990940094\n",
      "Epoch 180,Loss 0.06154210492968559\n",
      "Epoch 181,Loss 0.060462359338998795\n",
      "Epoch 182,Loss 0.05940275639295578\n",
      "Epoch 183,Loss 0.058357030153274536\n",
      "Epoch 184,Loss 0.057327114045619965\n",
      "Epoch 185,Loss 0.05631367862224579\n",
      "Epoch 186,Loss 0.0553133599460125\n",
      "Epoch 187,Loss 0.05433644726872444\n",
      "Epoch 188,Loss 0.05336878076195717\n",
      "Epoch 189,Loss 0.05242116376757622\n",
      "Epoch 190,Loss 0.05149364843964577\n",
      "Epoch 191,Loss 0.05056785047054291\n",
      "Epoch 192,Loss 0.04964904859662056\n",
      "Epoch 193,Loss 0.04875374212861061\n",
      "Epoch 194,Loss 0.047877006232738495\n",
      "Epoch 195,Loss 0.04700833186507225\n",
      "Epoch 196,Loss 0.04614926129579544\n",
      "Epoch 197,Loss 0.04530835896730423\n",
      "Epoch 198,Loss 0.04447683319449425\n",
      "Epoch 199,Loss 0.043664947152137756\n",
      "Epoch 200,Loss 0.04285556077957153\n",
      "Epoch 201,Loss 0.042058367282152176\n",
      "Epoch 202,Loss 0.04128117114305496\n",
      "Epoch 203,Loss 0.04051563888788223\n",
      "Epoch 204,Loss 0.03977096080780029\n",
      "Epoch 205,Loss 0.039037201553583145\n",
      "Epoch 206,Loss 0.03831996023654938\n",
      "Epoch 207,Loss 0.0376184843480587\n",
      "Epoch 208,Loss 0.03692957013845444\n",
      "Epoch 209,Loss 0.036237120628356934\n",
      "Epoch 210,Loss 0.035560667514801025\n",
      "Epoch 211,Loss 0.03490030765533447\n",
      "Epoch 212,Loss 0.0342489629983902\n",
      "Epoch 213,Loss 0.03361421823501587\n",
      "Epoch 214,Loss 0.03299964591860771\n",
      "Epoch 215,Loss 0.0323883555829525\n",
      "Epoch 216,Loss 0.031782180070877075\n",
      "Epoch 217,Loss 0.031195180490612984\n",
      "Epoch 218,Loss 0.03062061406672001\n",
      "Epoch 219,Loss 0.03005347214639187\n",
      "Epoch 220,Loss 0.029497863724827766\n",
      "Epoch 221,Loss 0.02895250730216503\n",
      "Epoch 222,Loss 0.02842835523188114\n",
      "Epoch 223,Loss 0.027910567820072174\n",
      "Epoch 224,Loss 0.02740618772804737\n",
      "Epoch 225,Loss 0.026898793876171112\n",
      "Epoch 226,Loss 0.02639935538172722\n",
      "Epoch 227,Loss 0.02591915987432003\n",
      "Epoch 228,Loss 0.025447502732276917\n",
      "Epoch 229,Loss 0.024986788630485535\n",
      "Epoch 230,Loss 0.024541782215237617\n",
      "Epoch 231,Loss 0.024096177890896797\n",
      "Epoch 232,Loss 0.023659389466047287\n",
      "Epoch 233,Loss 0.023238111287355423\n",
      "Epoch 234,Loss 0.022825274616479874\n",
      "Epoch 235,Loss 0.022416377440094948\n",
      "Epoch 236,Loss 0.022013850510120392\n",
      "Epoch 237,Loss 0.02162354066967964\n",
      "Epoch 238,Loss 0.021244272589683533\n",
      "Epoch 239,Loss 0.02087617851793766\n",
      "Epoch 240,Loss 0.020503992214798927\n",
      "Epoch 241,Loss 0.02014375664293766\n",
      "Epoch 242,Loss 0.019790872931480408\n",
      "Epoch 243,Loss 0.01945112831890583\n",
      "Epoch 244,Loss 0.019108843058347702\n",
      "Epoch 245,Loss 0.018774133175611496\n",
      "Epoch 246,Loss 0.018446674570441246\n",
      "Epoch 247,Loss 0.01813105307519436\n",
      "Epoch 248,Loss 0.017821945250034332\n",
      "Epoch 249,Loss 0.017514275386929512\n"
     ]
    }
   ],
   "source": [
    "for epoch in range(1,250):\n",
    "    optimizer.zero_grad()\n",
    "    output=model(X_train)\n",
    "    loss=criterion(output,Y_train)\n",
    "    loss.backward()\n",
    "    optimizer.step()\n",
    "    losses.append(loss.item())\n",
    "    print(\"Epoch {},Loss {}\".format(epoch,loss.item(),verbose=1))"
   ]
  },
  {
   "cell_type": "code",
   "execution_count": 28,
   "id": "9eb13544",
   "metadata": {
    "execution": {
     "iopub.execute_input": "2022-01-15T18:21:16.701956Z",
     "iopub.status.busy": "2022-01-15T18:21:16.700869Z",
     "iopub.status.idle": "2022-01-15T18:21:16.924611Z",
     "shell.execute_reply": "2022-01-15T18:21:16.925364Z",
     "shell.execute_reply.started": "2022-01-15T17:21:42.187061Z"
    },
    "papermill": {
     "duration": 0.290246,
     "end_time": "2022-01-15T18:21:16.925628",
     "exception": false,
     "start_time": "2022-01-15T18:21:16.635382",
     "status": "completed"
    },
    "tags": []
   },
   "outputs": [
    {
     "data": {
      "text/plain": [
       "[<matplotlib.lines.Line2D at 0x7f4fa9ed3310>]"
      ]
     },
     "execution_count": 28,
     "metadata": {},
     "output_type": "execute_result"
    },
    {
     "data": {
      "image/png": "[encoded data removed]",
      "text/plain": [
       "<Figure size 504x360 with 1 Axes>"
      ]
     },
     "metadata": {
      "needs_background": "light"
     },
     "output_type": "display_data"
    }
   ],
   "source": [
    "plt.figure(figsize=(7,5))\n",
    "plt.plot(losses)"
   ]
  },
  {
   "cell_type": "code",
   "execution_count": 29,
   "id": "1091ea8d",
   "metadata": {
    "execution": {
     "iopub.execute_input": "2022-01-15T18:21:17.037664Z",
     "iopub.status.busy": "2022-01-15T18:21:17.036647Z",
     "iopub.status.idle": "2022-01-15T18:21:17.043652Z",
     "shell.execute_reply": "2022-01-15T18:21:17.044474Z",
     "shell.execute_reply.started": "2022-01-15T17:24:07.150558Z"
    },
    "papermill": {
     "duration": 0.062556,
     "end_time": "2022-01-15T18:21:17.044718",
     "exception": false,
     "start_time": "2022-01-15T18:21:16.982162",
     "status": "completed"
    },
    "tags": []
   },
   "outputs": [],
   "source": [
    "prediction=model(X_test)\n",
    "pred_y=torch.max(prediction,1)"
   ]
  },
  {
   "cell_type": "code",
   "execution_count": 30,
   "id": "1db46926",
   "metadata": {
    "execution": {
     "iopub.execute_input": "2022-01-15T18:21:17.152236Z",
     "iopub.status.busy": "2022-01-15T18:21:17.151290Z",
     "iopub.status.idle": "2022-01-15T18:21:17.153885Z",
     "shell.execute_reply": "2022-01-15T18:21:17.154512Z",
     "shell.execute_reply.started": "2022-01-15T17:25:03.851999Z"
    },
    "papermill": {
     "duration": 0.053797,
     "end_time": "2022-01-15T18:21:17.154689",
     "exception": false,
     "start_time": "2022-01-15T18:21:17.100892",
     "status": "completed"
    },
    "tags": []
   },
   "outputs": [],
   "source": [
    "from sklearn.metrics import accuracy_score,confusion_matrix,classification_report"
   ]
  },
  {
   "cell_type": "code",
   "execution_count": 31,
   "id": "da6d12e9",
   "metadata": {
    "execution": {
     "iopub.execute_input": "2022-01-15T18:21:17.250850Z",
     "iopub.status.busy": "2022-01-15T18:21:17.249859Z",
     "iopub.status.idle": "2022-01-15T18:21:17.259288Z",
     "shell.execute_reply": "2022-01-15T18:21:17.259870Z",
     "shell.execute_reply.started": "2022-01-15T17:30:33.321504Z"
    },
    "papermill": {
     "duration": 0.059102,
     "end_time": "2022-01-15T18:21:17.260052",
     "exception": false,
     "start_time": "2022-01-15T18:21:17.200950",
     "status": "completed"
    },
    "tags": []
   },
   "outputs": [
    {
     "data": {
      "text/plain": [
       "tensor([0, 1, 1, 0, 1, 1, 0, 0, 0, 1, 1, 1, 1, 1, 1, 0, 0, 1, 1, 1, 1, 1, 0, 1,\n",
       "        1, 1, 1, 0, 0, 1, 1, 1, 0, 1, 0, 1, 0, 0, 1, 0, 1, 1, 1, 0, 1, 1, 1, 0,\n",
       "        0, 0, 0, 0, 0, 1, 0, 1, 1, 0, 0, 0, 1, 0, 0, 0, 1, 1, 0, 0, 0, 1, 1, 1,\n",
       "        1, 1, 1, 0, 0, 1, 1, 0, 1, 0, 1, 1, 1, 1, 1, 1, 0, 0, 0, 0, 1, 0, 0, 0,\n",
       "        0, 1, 1, 0, 0, 1, 0, 1, 1, 1, 1, 1, 1, 1, 1, 0, 0, 1, 1, 1, 0, 1, 1, 0,\n",
       "        0, 0, 1, 1, 0, 0, 0, 1, 1, 1, 1, 0, 0, 0, 0, 0, 0, 0, 0, 1, 1, 1, 1, 0,\n",
       "        0, 1, 1, 1, 1, 1, 0, 0, 0, 0, 1, 0, 0, 0, 1, 1, 0, 0, 1, 1, 1, 0, 0, 1,\n",
       "        0, 1, 0, 1, 1, 0, 1, 1, 0, 0, 1, 0, 1, 1, 1, 0])"
      ]
     },
     "execution_count": 31,
     "metadata": {},
     "output_type": "execute_result"
    }
   ],
   "source": [
    "pred_y.indices"
   ]
  },
  {
   "cell_type": "code",
   "execution_count": 32,
   "id": "2f9c8527",
   "metadata": {
    "execution": {
     "iopub.execute_input": "2022-01-15T18:21:17.354776Z",
     "iopub.status.busy": "2022-01-15T18:21:17.353758Z",
     "iopub.status.idle": "2022-01-15T18:21:17.360015Z",
     "shell.execute_reply": "2022-01-15T18:21:17.360620Z",
     "shell.execute_reply.started": "2022-01-15T17:31:01.115356Z"
    },
    "papermill": {
     "duration": 0.055011,
     "end_time": "2022-01-15T18:21:17.360790",
     "exception": false,
     "start_time": "2022-01-15T18:21:17.305779",
     "status": "completed"
    },
    "tags": []
   },
   "outputs": [
    {
     "data": {
      "text/plain": [
       "0.8206521739130435"
      ]
     },
     "execution_count": 32,
     "metadata": {},
     "output_type": "execute_result"
    }
   ],
   "source": [
    "accuracy_score(Y_test,pred_y.indices)"
   ]
  },
  {
   "cell_type": "code",
   "execution_count": 33,
   "id": "881a1efe",
   "metadata": {
    "execution": {
     "iopub.execute_input": "2022-01-15T18:21:17.461529Z",
     "iopub.status.busy": "2022-01-15T18:21:17.460461Z",
     "iopub.status.idle": "2022-01-15T18:21:17.462968Z",
     "shell.execute_reply": "2022-01-15T18:21:17.462326Z",
     "shell.execute_reply.started": "2022-01-15T18:09:01.146446Z"
    },
    "papermill": {
     "duration": 0.055152,
     "end_time": "2022-01-15T18:21:17.463119",
     "exception": false,
     "start_time": "2022-01-15T18:21:17.407967",
     "status": "completed"
    },
    "tags": []
   },
   "outputs": [],
   "source": [
    "Test=pd.DataFrame(X_test.numpy())"
   ]
  },
  {
   "cell_type": "code",
   "execution_count": 34,
   "id": "f853d912",
   "metadata": {
    "execution": {
     "iopub.execute_input": "2022-01-15T18:21:17.560161Z",
     "iopub.status.busy": "2022-01-15T18:21:17.559418Z",
     "iopub.status.idle": "2022-01-15T18:21:17.563049Z",
     "shell.execute_reply": "2022-01-15T18:21:17.563616Z",
     "shell.execute_reply.started": "2022-01-15T18:11:23.456788Z"
    },
    "papermill": {
     "duration": 0.05504,
     "end_time": "2022-01-15T18:21:17.563811",
     "exception": false,
     "start_time": "2022-01-15T18:21:17.508771",
     "status": "completed"
    },
    "tags": []
   },
   "outputs": [],
   "source": [
    "Test[\"Actual\"]=Y_test\n",
    "Test[\"Prediction\"]=pred_y.indices"
   ]
  },
  {
   "cell_type": "code",
   "execution_count": 35,
   "id": "787a0831",
   "metadata": {
    "execution": {
     "iopub.execute_input": "2022-01-15T18:21:17.657333Z",
     "iopub.status.busy": "2022-01-15T18:21:17.656631Z",
     "iopub.status.idle": "2022-01-15T18:21:17.673515Z",
     "shell.execute_reply": "2022-01-15T18:21:17.674047Z",
     "shell.execute_reply.started": "2022-01-15T18:10:35.997019Z"
    },
    "papermill": {
     "duration": 0.065407,
     "end_time": "2022-01-15T18:21:17.674228",
     "exception": false,
     "start_time": "2022-01-15T18:21:17.608821",
     "status": "completed"
    },
    "tags": []
   },
   "outputs": [
    {
     "data": {
      "text/html": [
       "<div>\n",
       "<style scoped>\n",
       "    .dataframe tbody tr th:only-of-type {\n",
       "        vertical-align: middle;\n",
       "    }\n",
       "\n",
       "    .dataframe tbody tr th {\n",
       "        vertical-align: top;\n",
       "    }\n",
       "\n",
       "    .dataframe thead th {\n",
       "        text-align: right;\n",
       "    }\n",
       "</style>\n",
       "<table border=\"1\" class=\"dataframe\">\n",
       "  <thead>\n",
       "    <tr style=\"text-align: right;\">\n",
       "      <th></th>\n",
       "      <th>0</th>\n",
       "      <th>1</th>\n",
       "      <th>2</th>\n",
       "      <th>3</th>\n",
       "      <th>4</th>\n",
       "      <th>5</th>\n",
       "      <th>6</th>\n",
       "      <th>7</th>\n",
       "      <th>8</th>\n",
       "      <th>9</th>\n",
       "      <th>10</th>\n",
       "      <th>Actual</th>\n",
       "      <th>Prediction</th>\n",
       "    </tr>\n",
       "  </thead>\n",
       "  <tbody>\n",
       "    <tr>\n",
       "      <th>0</th>\n",
       "      <td>-0.160265</td>\n",
       "      <td>-0.515952</td>\n",
       "      <td>-0.530992</td>\n",
       "      <td>-0.237597</td>\n",
       "      <td>-1.818435</td>\n",
       "      <td>-0.551341</td>\n",
       "      <td>0.492241</td>\n",
       "      <td>1.697314</td>\n",
       "      <td>-0.823556</td>\n",
       "      <td>2.303858</td>\n",
       "      <td>-1.052114</td>\n",
       "      <td>1</td>\n",
       "      <td>0</td>\n",
       "    </tr>\n",
       "    <tr>\n",
       "      <th>1</th>\n",
       "      <td>-1.114921</td>\n",
       "      <td>-0.515952</td>\n",
       "      <td>0.643588</td>\n",
       "      <td>-0.940145</td>\n",
       "      <td>-1.818435</td>\n",
       "      <td>-0.551341</td>\n",
       "      <td>-0.749180</td>\n",
       "      <td>0.321877</td>\n",
       "      <td>1.214246</td>\n",
       "      <td>1.293375</td>\n",
       "      <td>0.596078</td>\n",
       "      <td>1</td>\n",
       "      <td>1</td>\n",
       "    </tr>\n",
       "    <tr>\n",
       "      <th>2</th>\n",
       "      <td>1.855121</td>\n",
       "      <td>-0.515952</td>\n",
       "      <td>0.643588</td>\n",
       "      <td>-0.129513</td>\n",
       "      <td>0.203069</td>\n",
       "      <td>-0.551341</td>\n",
       "      <td>0.492241</td>\n",
       "      <td>-0.857069</td>\n",
       "      <td>1.214246</td>\n",
       "      <td>-0.727592</td>\n",
       "      <td>0.596078</td>\n",
       "      <td>1</td>\n",
       "      <td>1</td>\n",
       "    </tr>\n",
       "    <tr>\n",
       "      <th>3</th>\n",
       "      <td>-1.751359</td>\n",
       "      <td>-0.515952</td>\n",
       "      <td>0.643588</td>\n",
       "      <td>-0.129513</td>\n",
       "      <td>1.062894</td>\n",
       "      <td>-0.551341</td>\n",
       "      <td>-0.749180</td>\n",
       "      <td>0.832754</td>\n",
       "      <td>-0.823556</td>\n",
       "      <td>-0.727592</td>\n",
       "      <td>-1.052114</td>\n",
       "      <td>0</td>\n",
       "      <td>0</td>\n",
       "    </tr>\n",
       "    <tr>\n",
       "      <th>4</th>\n",
       "      <td>-0.054192</td>\n",
       "      <td>-0.515952</td>\n",
       "      <td>0.643588</td>\n",
       "      <td>-0.345682</td>\n",
       "      <td>-1.818435</td>\n",
       "      <td>-0.551341</td>\n",
       "      <td>-0.749180</td>\n",
       "      <td>-1.210752</td>\n",
       "      <td>-0.823556</td>\n",
       "      <td>-0.727592</td>\n",
       "      <td>0.596078</td>\n",
       "      <td>1</td>\n",
       "      <td>1</td>\n",
       "    </tr>\n",
       "  </tbody>\n",
       "</table>\n",
       "</div>"
      ],
      "text/plain": [
       "          0         1         2         3         4         5         6  \\\n",
       "0 -0.160265 -0.515952 -0.530992 -0.237597 -1.818435 -0.551341  0.492241   \n",
       "1 -1.114921 -0.515952  0.643588 -0.940145 -1.818435 -0.551341 -0.749180   \n",
       "2  1.855121 -0.515952  0.643588 -0.129513  0.203069 -0.551341  0.492241   \n",
       "3 -1.751359 -0.515952  0.643588 -0.129513  1.062894 -0.551341 -0.749180   \n",
       "4 -0.054192 -0.515952  0.643588 -0.345682 -1.818435 -0.551341 -0.749180   \n",
       "\n",
       "          7         8         9        10  Actual  Prediction  \n",
       "0  1.697314 -0.823556  2.303858 -1.052114       1           0  \n",
       "1  0.321877  1.214246  1.293375  0.596078       1           1  \n",
       "2 -0.857069  1.214246 -0.727592  0.596078       1           1  \n",
       "3  0.832754 -0.823556 -0.727592 -1.052114       0           0  \n",
       "4 -1.210752 -0.823556 -0.727592  0.596078       1           1  "
      ]
     },
     "execution_count": 35,
     "metadata": {},
     "output_type": "execute_result"
    }
   ],
   "source": [
    "Test.head()"
   ]
  },
  {
   "cell_type": "markdown",
   "id": "129329be",
   "metadata": {
    "papermill": {
     "duration": 0.04527,
     "end_time": "2022-01-15T18:21:17.766679",
     "exception": false,
     "start_time": "2022-01-15T18:21:17.721409",
     "status": "completed"
    },
    "tags": []
   },
   "source": [
    "**The Values in the above Table is same values of the test data since it was scaled using StandardScaler negative to positive integer.**"
   ]
  },
  {
   "cell_type": "code",
   "execution_count": 36,
   "id": "b4328d6a",
   "metadata": {
    "execution": {
     "iopub.execute_input": "2022-01-15T18:21:17.861208Z",
     "iopub.status.busy": "2022-01-15T18:21:17.860492Z",
     "iopub.status.idle": "2022-01-15T18:21:17.872015Z",
     "shell.execute_reply": "2022-01-15T18:21:17.872559Z"
    },
    "papermill": {
     "duration": 0.060584,
     "end_time": "2022-01-15T18:21:17.872731",
     "exception": false,
     "start_time": "2022-01-15T18:21:17.812147",
     "status": "completed"
    },
    "tags": []
   },
   "outputs": [
    {
     "name": "stdout",
     "output_type": "stream",
     "text": [
      "Patient has Heart Failure.\n"
     ]
    }
   ],
   "source": [
    "samp=[[48,1,2,138,214,0,0,108,1,1.5,1]]\n",
    "Input=torch.tensor(samp).float()\n",
    "out=model(Input)\n",
    "output=torch.max(out,1)\n",
    "output.indices\n",
    "if(output.indices==1):\n",
    "    print(\"Patient has Heart Failure.\")\n",
    "else:\n",
    "    print(\"Patient is Normal.\")"
   ]
  }
 ],
 "metadata": {
  "kernelspec": {
   "display_name": "Python 3",
   "language": "python",
   "name": "python3"
  },
  "language_info": {
   "codemirror_mode": {
    "name": "ipython",
    "version": 3
   },
   "file_extension": ".py",
   "mimetype": "text/x-python",
   "name": "python",
   "nbconvert_exporter": "python",
   "pygments_lexer": "ipython3",
   "version": "3.7.12"
  },
  "papermill": {
   "default_parameters": {},
   "duration": 24.224191,
   "end_time": "2022-01-15T18:21:18.828734",
   "environment_variables": {},
   "exception": null,
   "input_path": "__notebook__.ipynb",
   "output_path": "__notebook__.ipynb",
   "parameters": {},
   "start_time": "2022-01-15T18:20:54.604543",
   "version": "2.3.3"
  }
 },
 "nbformat": 4,
 "nbformat_minor": 5
}
